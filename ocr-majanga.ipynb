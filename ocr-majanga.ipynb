{
 "cells": [
  {
   "cell_type": "code",
   "execution_count": 7,
   "metadata": {},
   "outputs": [],
   "source": [
    "import cv2 as cv\n",
    "import pytesseract"
   ]
  },
  {
   "cell_type": "code",
   "execution_count": 8,
   "metadata": {},
   "outputs": [
    {
     "data": {
      "text/plain": [
       "233"
      ]
     },
     "execution_count": 8,
     "metadata": {},
     "output_type": "execute_result"
    }
   ],
   "source": [
    "image_file = './Majanga.jpeg'\n",
    "img = cv.imread(image_file)\n",
    "cv.imshow('Majanga', img)\n",
    "cv.waitKey(0)"
   ]
  },
  {
   "cell_type": "code",
   "execution_count": 9,
   "metadata": {},
   "outputs": [
    {
     "name": "stdout",
     "output_type": "stream",
     "text": [
      "b) Consider a single server queuing system. The system starts at time t=0. The\n",
      "arrival time of\n",
      "\n",
      "customers is: 0.9, 1.3, 2.8, 3.1, 3.8, 8.0, 8.6, 9.0, 9.2, and 9.8. The departure tim\n",
      "\n",
      "es are: 2.2, 4.0, 5.0,\n",
      "\n",
      "6.4, and 11.0. Time is in minutes. The first in first out queuing discipline is foll\n",
      "\n",
      "owed. Simulate this\n",
      "\n",
      "system for six clients and estimate:\n",
      "\n",
      "i) The average delay in the waiting line\n",
      "\n",
      "ii) The average number of clients in the waiting line at any timet\n",
      "\n",
      "iii) The expected utilization of server. (11 Marks)\n",
      "\f\n"
     ]
    }
   ],
   "source": [
    "image_text = pytesseract.image_to_string(img)\n",
    "print(image_text)"
   ]
  },
  {
   "cell_type": "code",
   "execution_count": 10,
   "metadata": {},
   "outputs": [
    {
     "data": {
      "text/plain": [
       "515"
      ]
     },
     "execution_count": 10,
     "metadata": {},
     "output_type": "execute_result"
    },
    {
     "ename": "",
     "evalue": "",
     "output_type": "error",
     "traceback": [
      "\u001b[1;31mThe Kernel crashed while executing code in the the current cell or a previous cell. Please review the code in the cell(s) to identify a possible cause of the failure. Click <a href='https://aka.ms/vscodeJupyterKernelCrash'>here</a> for more info. View Jupyter <a href='command:jupyter.viewOutput'>log</a> for further details."
     ]
    }
   ],
   "source": [
    "# Write the results to a file\n",
    "\n",
    "f = open('majanga-question.txt', 'a')\n",
    "f.write(image_text)"
   ]
  }
 ],
 "metadata": {
  "kernelspec": {
   "display_name": "Python 3",
   "language": "python",
   "name": "python3"
  },
  "language_info": {
   "codemirror_mode": {
    "name": "ipython",
    "version": 3
   },
   "file_extension": ".py",
   "mimetype": "text/x-python",
   "name": "python",
   "nbconvert_exporter": "python",
   "pygments_lexer": "ipython3",
   "version": "3.10.6"
  },
  "orig_nbformat": 4
 },
 "nbformat": 4,
 "nbformat_minor": 2
}
